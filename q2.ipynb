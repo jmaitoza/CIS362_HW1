{
 "cells": [
  {
   "cell_type": "markdown",
   "metadata": {
    "collapsed": false
   },
   "source": [
    "### DataSet Description:\n",
    "The variability of consumer engagement is analysed through a Principal Component Analysis, highlighting the changes induced by the use of Facebook Live. The seasonal component is analysed through a study of the averages of the different engagement metrics for different time-frames (hourly, daily and monthly). Finally, we identify statistical outlier posts, that are qualitatively analyzed further, in terms of their selling approach and activities.\n",
    "\n"
   ]
  },
  {
   "attachments": {},
   "cell_type": "markdown",
   "metadata": {},
   "source": [
    "#### Descriptive Statistics for the data as follows:\n",
    "* Mean\n",
    "* Median\n",
    "* Standard Deviation\n",
    "* Quartiles\n",
    "* Outliers"
   ]
  },
  {
   "cell_type": "code",
   "execution_count": 1,
   "metadata": {
    "collapsed": false
   },
   "outputs": [
    {
     "data": {
      "text/plain": "   status_id status_type status_published  num_reactions  num_comments  \\\n0          1       video   4/22/2018 6:00            529           512   \n1          2       photo  4/21/2018 22:45            150             0   \n2          3       video   4/21/2018 6:17            227           236   \n3          4       photo   4/21/2018 2:29            111             0   \n4          5       photo   4/18/2018 3:22            213             0   \n\n   num_shares  num_likes  num_loves  num_wows  num_hahas  num_sads  num_angrys  \n0         262        432         92         3          1         1           0  \n1           0        150          0         0          0         0           0  \n2          57        204         21         1          1         0           0  \n3           0        111          0         0          0         0           0  \n4           0        204          9         0          0         0           0  ",
      "text/html": "<div>\n<style scoped>\n    .dataframe tbody tr th:only-of-type {\n        vertical-align: middle;\n    }\n\n    .dataframe tbody tr th {\n        vertical-align: top;\n    }\n\n    .dataframe thead th {\n        text-align: right;\n    }\n</style>\n<table border=\"1\" class=\"dataframe\">\n  <thead>\n    <tr style=\"text-align: right;\">\n      <th></th>\n      <th>status_id</th>\n      <th>status_type</th>\n      <th>status_published</th>\n      <th>num_reactions</th>\n      <th>num_comments</th>\n      <th>num_shares</th>\n      <th>num_likes</th>\n      <th>num_loves</th>\n      <th>num_wows</th>\n      <th>num_hahas</th>\n      <th>num_sads</th>\n      <th>num_angrys</th>\n    </tr>\n  </thead>\n  <tbody>\n    <tr>\n      <th>0</th>\n      <td>1</td>\n      <td>video</td>\n      <td>4/22/2018 6:00</td>\n      <td>529</td>\n      <td>512</td>\n      <td>262</td>\n      <td>432</td>\n      <td>92</td>\n      <td>3</td>\n      <td>1</td>\n      <td>1</td>\n      <td>0</td>\n    </tr>\n    <tr>\n      <th>1</th>\n      <td>2</td>\n      <td>photo</td>\n      <td>4/21/2018 22:45</td>\n      <td>150</td>\n      <td>0</td>\n      <td>0</td>\n      <td>150</td>\n      <td>0</td>\n      <td>0</td>\n      <td>0</td>\n      <td>0</td>\n      <td>0</td>\n    </tr>\n    <tr>\n      <th>2</th>\n      <td>3</td>\n      <td>video</td>\n      <td>4/21/2018 6:17</td>\n      <td>227</td>\n      <td>236</td>\n      <td>57</td>\n      <td>204</td>\n      <td>21</td>\n      <td>1</td>\n      <td>1</td>\n      <td>0</td>\n      <td>0</td>\n    </tr>\n    <tr>\n      <th>3</th>\n      <td>4</td>\n      <td>photo</td>\n      <td>4/21/2018 2:29</td>\n      <td>111</td>\n      <td>0</td>\n      <td>0</td>\n      <td>111</td>\n      <td>0</td>\n      <td>0</td>\n      <td>0</td>\n      <td>0</td>\n      <td>0</td>\n    </tr>\n    <tr>\n      <th>4</th>\n      <td>5</td>\n      <td>photo</td>\n      <td>4/18/2018 3:22</td>\n      <td>213</td>\n      <td>0</td>\n      <td>0</td>\n      <td>204</td>\n      <td>9</td>\n      <td>0</td>\n      <td>0</td>\n      <td>0</td>\n      <td>0</td>\n    </tr>\n  </tbody>\n</table>\n</div>"
     },
     "execution_count": 1,
     "metadata": {},
     "output_type": "execute_result"
    }
   ],
   "source": [
    "import numpy as np\n",
    "import pandas as pd\n",
    "\n",
    "dataset = pd.read_csv('datasets/facebook_data.csv')\n",
    "# delete empty columns\n",
    "del dataset['Column1']\n",
    "del dataset['Column2']\n",
    "del dataset['Column3']\n",
    "del dataset['Column4']\n",
    "\n",
    "dataset.head()"
   ]
  },
  {
   "attachments": {},
   "cell_type": "markdown",
   "metadata": {},
   "source": [
    "### Descriptive Statistics for the Number of Reactions"
   ]
  },
  {
   "cell_type": "code",
   "execution_count": 2,
   "metadata": {},
   "outputs": [
    {
     "name": "stdout",
     "output_type": "stream",
     "text": [
      "count    7050.000000\n",
      "mean      230.117163\n",
      "std       462.625309\n",
      "min         0.000000\n",
      "25%        17.000000\n",
      "50%        59.500000\n",
      "75%       219.000000\n",
      "max      4710.000000\n",
      "Name: num_reactions, dtype: float64\n",
      "\n",
      "Median:\n",
      " 59.5\n",
      "\n",
      "Outliers:\n",
      " 0.01       0.00\n",
      "0.99    2306.06\n",
      "Name: num_reactions, dtype: float64\n"
     ]
    }
   ],
   "source": [
    "mean = dataset['num_reactions'].mean()\n",
    "median = dataset['num_reactions'].median()\n",
    "std = dataset['num_reactions'].std()\n",
    "quantiles = dataset['num_reactions'].quantile([0.25, 0.5, 0.75])\n",
    "outliers = dataset['num_reactions'].quantile([0.01, 0.99])\n",
    "# display this data\n",
    "print(dataset.num_reactions.describe())\n",
    "print(\"\\nMedian:\\n\", median)\n",
    "print(\"\\nOutliers:\\n\", outliers)"
   ]
  },
  {
   "attachments": {},
   "cell_type": "markdown",
   "metadata": {},
   "source": [
    "### Descriptive Statistics for the Number of Comments"
   ]
  },
  {
   "cell_type": "code",
   "execution_count": 3,
   "metadata": {},
   "outputs": [
    {
     "name": "stdout",
     "output_type": "stream",
     "text": [
      "count     7050.000000\n",
      "mean       224.356028\n",
      "std        889.636820\n",
      "min          0.000000\n",
      "25%          0.000000\n",
      "50%          4.000000\n",
      "75%         23.000000\n",
      "max      20990.000000\n",
      "Name: num_comments, dtype: float64\n",
      "\n",
      "Median:\n",
      " 4.0\n",
      "\n",
      "Outliers:\n",
      " 0.01       0.00\n",
      "0.99    4338.04\n",
      "Name: num_comments, dtype: float64\n"
     ]
    }
   ],
   "source": [
    "mean = dataset['num_comments'].mean()\n",
    "median = dataset['num_comments'].median()\n",
    "std = dataset['num_comments'].std()\n",
    "quartiles = dataset['num_comments'].quantile([0.25, 0.5, 0.75])\n",
    "outliers = dataset['num_comments'].quantile([0.01, 0.99])\n",
    "\n",
    "print(dataset.num_comments.describe())\n",
    "print(\"\\nMedian:\\n\", median)\n",
    "print(\"\\nOutliers:\\n\", outliers)\n"
   ]
  },
  {
   "attachments": {},
   "cell_type": "markdown",
   "metadata": {},
   "source": [
    "### Descriptive Statistics for the Number of Shares"
   ]
  },
  {
   "cell_type": "code",
   "execution_count": 4,
   "metadata": {},
   "outputs": [
    {
     "name": "stdout",
     "output_type": "stream",
     "text": [
      "count    7050.000000\n",
      "mean       40.022553\n",
      "std       131.599965\n",
      "min         0.000000\n",
      "25%         0.000000\n",
      "50%         0.000000\n",
      "75%         4.000000\n",
      "max      3424.000000\n",
      "Name: num_shares, dtype: float64\n",
      "\n",
      "Median:\n",
      " 0.0\n",
      "\n",
      "Outliers:\n",
      " 0.01      0.0\n",
      "0.99    607.0\n",
      "Name: num_shares, dtype: float64\n"
     ]
    }
   ],
   "source": [
    "mean = dataset['num_shares'].mean()\n",
    "median = dataset['num_shares'].median()\n",
    "std = dataset['num_shares'].std()\n",
    "quartiles = dataset['num_shares'].quantile([0.25, 0.5, 0.75])\n",
    "outliers = dataset['num_shares'].quantile([0.01, 0.99])\n",
    "\n",
    "print(dataset.num_shares.describe())\n",
    "print(\"\\nMedian:\\n\", median)\n",
    "print(\"\\nOutliers:\\n\", outliers)"
   ]
  },
  {
   "attachments": {},
   "cell_type": "markdown",
   "metadata": {},
   "source": [
    "### Descriptive Statistics for the Number of Likes"
   ]
  },
  {
   "cell_type": "code",
   "execution_count": 5,
   "metadata": {},
   "outputs": [
    {
     "name": "stdout",
     "output_type": "stream",
     "text": [
      "count    7050.000000\n",
      "mean      215.043121\n",
      "std       449.472357\n",
      "min         0.000000\n",
      "25%        17.000000\n",
      "50%        58.000000\n",
      "75%       184.750000\n",
      "max      4710.000000\n",
      "Name: num_likes, dtype: float64\n",
      "\n",
      "Median:\n",
      " 58.0\n",
      "\n",
      "Outliers:\n",
      " 0.01       0.0\n",
      "0.99    2297.0\n",
      "Name: num_likes, dtype: float64\n"
     ]
    }
   ],
   "source": [
    "mean = dataset['num_likes'].mean()\n",
    "median = dataset['num_likes'].median()\n",
    "std = dataset['num_likes'].std()\n",
    "quartiles = dataset['num_likes'].quantile([0.25, 0.5, 0.75])\n",
    "outliers = dataset['num_likes'].quantile([0.01, 0.99])\n",
    "\n",
    "print(dataset.num_likes.describe())\n",
    "print(\"\\nMedian:\\n\", median)\n",
    "print(\"\\nOutliers:\\n\", outliers)"
   ]
  }
 ],
 "metadata": {
  "kernelspec": {
   "display_name": "Python 3",
   "language": "python",
   "name": "python3"
  },
  "language_info": {
   "codemirror_mode": {
    "name": "ipython",
    "version": 3
   },
   "file_extension": ".py",
   "mimetype": "text/x-python",
   "name": "python",
   "nbconvert_exporter": "python",
   "pygments_lexer": "ipython3",
   "version": "3.10.8"
  }
 },
 "nbformat": 4,
 "nbformat_minor": 0
}
